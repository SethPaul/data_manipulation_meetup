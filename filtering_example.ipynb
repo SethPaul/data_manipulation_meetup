{
 "cells": [
  {
   "cell_type": "code",
   "execution_count": null,
   "metadata": {
    "collapsed": true
   },
   "outputs": [],
   "source": [
    "df %>%\n",
    "mutate_all(function(x){ifelse(is.na(x), 0, x)})"
   ]
  },
  {
   "cell_type": "code",
   "execution_count": null,
   "metadata": {
    "collapsed": true
   },
   "outputs": [],
   "source": [
    "df %>%\n",
    "# head() %>%\n",
    "mutate(\n",
    "ones1 = sqrt(twos ) + threes ^ fours,\n",
    "    nines2= ones1   * log(ones1),\n",
    "    ones_prime1 = sqrt(twos +4) + threes ^ fours*2,\n",
    "    nines_prime2= ones1  * log(ones1)\n",
    ") %>%\n",
    "dplyr::select(-contains('1')) %>%\n",
    "filter(firstname %in% c('Tom', 'Sally', 'Henry'))"
   ]
  }
 ],
 "metadata": {
  "kernelspec": {
   "display_name": "R",
   "language": "R",
   "name": "ir"
  },
  "language_info": {
   "codemirror_mode": "r",
   "file_extension": ".r",
   "mimetype": "text/x-r-source",
   "name": "R",
   "pygments_lexer": "r",
   "version": "3.3.2"
  }
 },
 "nbformat": 4,
 "nbformat_minor": 0
}
