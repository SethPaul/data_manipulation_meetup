{
 "cells": [
  {
   "cell_type": "code",
   "execution_count": 1,
   "metadata": {
    "collapsed": false
   },
   "outputs": [
    {
     "name": "stderr",
     "output_type": "stream",
     "text": [
      "\n",
      "Attaching package: ‘dplyr’\n",
      "\n",
      "The following objects are masked from ‘package:stats’:\n",
      "\n",
      "    filter, lag\n",
      "\n",
      "The following objects are masked from ‘package:base’:\n",
      "\n",
      "    intersect, setdiff, setequal, union\n",
      "\n"
     ]
    }
   ],
   "source": [
    "library(jsonlite)\n",
    "library(dplyr)"
   ]
  },
  {
   "cell_type": "code",
   "execution_count": 2,
   "metadata": {
    "collapsed": false
   },
   "outputs": [],
   "source": [
    "daily_deals_df <- jsonlite::fromJSON('[{ \"date\": \"2017-01-06\",\n",
    "    \"featuerdDealId\": 2551,\n",
    "    \"topSellingDealIds\": [2954, 2880],\n",
    "    \"newDealIds\": [2819, 2794, 2982, 2944, 2784, 2798, \n",
    "2946, 2412, 2953, 2563, 2575, 2534, 2544, 2546, 2573, 2589, 2550, 2630, 2625, 2623, 2733, 2711, 2771, 2721, 2753, 2756,\n",
    "2754, 2706, 2753, 2746, 2757, 2704, 2785, 2881, 2809, 2809, 2820, 2821, 2899, 2801, 2848,\n",
    "2834, 2835, 2811, 2868, 2876, 2851, 2859]\n",
    "}]')"
   ]
  },
  {
   "cell_type": "code",
   "execution_count": 3,
   "metadata": {
    "collapsed": false
   },
   "outputs": [
    {
     "data": {
      "text/html": [
       "<table>\n",
       "<thead><tr><th scope=col>topSellingDealIds</th></tr></thead>\n",
       "<tbody>\n",
       "\t<tr><td>2954, 2880</td></tr>\n",
       "</tbody>\n",
       "</table>\n"
      ],
      "text/latex": [
       "\\begin{tabular}{r|l}\n",
       " topSellingDealIds\\\\\n",
       "\\hline\n",
       "\t 2954, 2880\\\\\n",
       "\\end{tabular}\n"
      ],
      "text/markdown": [
       "\n",
       "topSellingDealIds | \n",
       "|---|\n",
       "| 2954, 2880 | \n",
       "\n",
       "\n"
      ],
      "text/plain": [
       "  topSellingDealIds\n",
       "1 2954, 2880       "
      ]
     },
     "metadata": {},
     "output_type": "display_data"
    }
   ],
   "source": [
    "daily_deals_df  %>% select(topSellingDealIds)"
   ]
  },
  {
   "cell_type": "code",
   "execution_count": 4,
   "metadata": {
    "collapsed": false,
    "scrolled": false
   },
   "outputs": [
    {
     "data": {
      "text/html": [
       "<table>\n",
       "<thead><tr><th scope=col>date</th><th scope=col>featuerdDealId</th><th scope=col>topSellingDealIds</th><th scope=col>newDealIds</th></tr></thead>\n",
       "<tbody>\n",
       "\t<tr><td>2017-01-06                                                                                                                                                                                                                                                                                    </td><td>2551                                                                                                                                                                                                                                                                                          </td><td>2954, 2880                                                                                                                                                                                                                                                                                    </td><td>2819, 2794, 2982, 2944, 2784, 2798, 2946, 2412, 2953, 2563, 2575, 2534, 2544, 2546, 2573, 2589, 2550, 2630, 2625, 2623, 2733, 2711, 2771, 2721, 2753, 2756, 2754, 2706, 2753, 2746, 2757, 2704, 2785, 2881, 2809, 2809, 2820, 2821, 2899, 2801, 2848, 2834, 2835, 2811, 2868, 2876, 2851, 2859</td></tr>\n",
       "</tbody>\n",
       "</table>\n"
      ],
      "text/latex": [
       "\\begin{tabular}{r|llll}\n",
       " date & featuerdDealId & topSellingDealIds & newDealIds\\\\\n",
       "\\hline\n",
       "\t 2017-01-06                                                                                                                                                                                                                                                                                     & 2551                                                                                                                                                                                                                                                                                           & 2954, 2880                                                                                                                                                                                                                                                                                     & 2819, 2794, 2982, 2944, 2784, 2798, 2946, 2412, 2953, 2563, 2575, 2534, 2544, 2546, 2573, 2589, 2550, 2630, 2625, 2623, 2733, 2711, 2771, 2721, 2753, 2756, 2754, 2706, 2753, 2746, 2757, 2704, 2785, 2881, 2809, 2809, 2820, 2821, 2899, 2801, 2848, 2834, 2835, 2811, 2868, 2876, 2851, 2859\\\\\n",
       "\\end{tabular}\n"
      ],
      "text/markdown": [
       "\n",
       "date | featuerdDealId | topSellingDealIds | newDealIds | \n",
       "|---|\n",
       "| 2017-01-06                                                                                                                                                                                                                                                                                     | 2551                                                                                                                                                                                                                                                                                           | 2954, 2880                                                                                                                                                                                                                                                                                     | 2819, 2794, 2982, 2944, 2784, 2798, 2946, 2412, 2953, 2563, 2575, 2534, 2544, 2546, 2573, 2589, 2550, 2630, 2625, 2623, 2733, 2711, 2771, 2721, 2753, 2756, 2754, 2706, 2753, 2746, 2757, 2704, 2785, 2881, 2809, 2809, 2820, 2821, 2899, 2801, 2848, 2834, 2835, 2811, 2868, 2876, 2851, 2859 | \n",
       "\n",
       "\n"
      ],
      "text/plain": [
       "  date       featuerdDealId topSellingDealIds\n",
       "1 2017-01-06 2551           2954, 2880       \n",
       "  newDealIds                                                                                                                                                                                                                                                                                    \n",
       "1 2819, 2794, 2982, 2944, 2784, 2798, 2946, 2412, 2953, 2563, 2575, 2534, 2544, 2546, 2573, 2589, 2550, 2630, 2625, 2623, 2733, 2711, 2771, 2721, 2753, 2756, 2754, 2706, 2753, 2746, 2757, 2704, 2785, 2881, 2809, 2809, 2820, 2821, 2899, 2801, 2848, 2834, 2835, 2811, 2868, 2876, 2851, 2859"
      ]
     },
     "metadata": {},
     "output_type": "display_data"
    }
   ],
   "source": [
    "daily_deals_df"
   ]
  },
  {
   "cell_type": "code",
   "execution_count": 5,
   "metadata": {
    "collapsed": false
   },
   "outputs": [
    {
     "data": {
      "text/html": [
       "<ol class=list-inline>\n",
       "\t<li>1</li>\n",
       "\t<li>2</li>\n",
       "</ol>\n"
      ],
      "text/latex": [
       "\\begin{enumerate*}\n",
       "\\item 1\n",
       "\\item 2\n",
       "\\end{enumerate*}\n"
      ],
      "text/markdown": [
       "1. 1\n",
       "2. 2\n",
       "\n",
       "\n"
      ],
      "text/plain": [
       "[1] 1 2"
      ]
     },
     "metadata": {},
     "output_type": "display_data"
    }
   ],
   "source": [
    "c(1,2)"
   ]
  },
  {
   "cell_type": "code",
   "execution_count": 6,
   "metadata": {
    "collapsed": false
   },
   "outputs": [
    {
     "name": "stderr",
     "output_type": "stream",
     "text": [
      "Warning message:\n",
      "“Too many values at 1 locations: 1”"
     ]
    },
    {
     "data": {
      "text/html": [
       "<table>\n",
       "<thead><tr><th scope=col>date</th><th scope=col>featuerdDealId</th><th scope=col>top_selling_deal1</th><th scope=col>top_selling_deal2</th><th scope=col>dff</th><th scope=col>newDealIds</th></tr></thead>\n",
       "<tbody>\n",
       "\t<tr><td>2017-01-06                                                                                                                                                                                                                                                                                    </td><td>2551                                                                                                                                                                                                                                                                                          </td><td>c                                                                                                                                                                                                                                                                                             </td><td>2954                                                                                                                                                                                                                                                                                          </td><td>2880                                                                                                                                                                                                                                                                                          </td><td>2819, 2794, 2982, 2944, 2784, 2798, 2946, 2412, 2953, 2563, 2575, 2534, 2544, 2546, 2573, 2589, 2550, 2630, 2625, 2623, 2733, 2711, 2771, 2721, 2753, 2756, 2754, 2706, 2753, 2746, 2757, 2704, 2785, 2881, 2809, 2809, 2820, 2821, 2899, 2801, 2848, 2834, 2835, 2811, 2868, 2876, 2851, 2859</td></tr>\n",
       "</tbody>\n",
       "</table>\n"
      ],
      "text/latex": [
       "\\begin{tabular}{r|llllll}\n",
       " date & featuerdDealId & top\\_selling\\_deal1 & top\\_selling\\_deal2 & dff & newDealIds\\\\\n",
       "\\hline\n",
       "\t 2017-01-06                                                                                                                                                                                                                                                                                     & 2551                                                                                                                                                                                                                                                                                           & c                                                                                                                                                                                                                                                                                              & 2954                                                                                                                                                                                                                                                                                           & 2880                                                                                                                                                                                                                                                                                           & 2819, 2794, 2982, 2944, 2784, 2798, 2946, 2412, 2953, 2563, 2575, 2534, 2544, 2546, 2573, 2589, 2550, 2630, 2625, 2623, 2733, 2711, 2771, 2721, 2753, 2756, 2754, 2706, 2753, 2746, 2757, 2704, 2785, 2881, 2809, 2809, 2820, 2821, 2899, 2801, 2848, 2834, 2835, 2811, 2868, 2876, 2851, 2859\\\\\n",
       "\\end{tabular}\n"
      ],
      "text/markdown": [
       "\n",
       "date | featuerdDealId | top_selling_deal1 | top_selling_deal2 | dff | newDealIds | \n",
       "|---|\n",
       "| 2017-01-06                                                                                                                                                                                                                                                                                     | 2551                                                                                                                                                                                                                                                                                           | c                                                                                                                                                                                                                                                                                              | 2954                                                                                                                                                                                                                                                                                           | 2880                                                                                                                                                                                                                                                                                           | 2819, 2794, 2982, 2944, 2784, 2798, 2946, 2412, 2953, 2563, 2575, 2534, 2544, 2546, 2573, 2589, 2550, 2630, 2625, 2623, 2733, 2711, 2771, 2721, 2753, 2756, 2754, 2706, 2753, 2746, 2757, 2704, 2785, 2881, 2809, 2809, 2820, 2821, 2899, 2801, 2848, 2834, 2835, 2811, 2868, 2876, 2851, 2859 | \n",
       "\n",
       "\n"
      ],
      "text/plain": [
       "  date       featuerdDealId top_selling_deal1 top_selling_deal2 dff \n",
       "1 2017-01-06 2551           c                 2954              2880\n",
       "  newDealIds                                                                                                                                                                                                                                                                                    \n",
       "1 2819, 2794, 2982, 2944, 2784, 2798, 2946, 2412, 2953, 2563, 2575, 2534, 2544, 2546, 2573, 2589, 2550, 2630, 2625, 2623, 2733, 2711, 2771, 2721, 2753, 2756, 2754, 2706, 2753, 2746, 2757, 2704, 2785, 2881, 2809, 2809, 2820, 2821, 2899, 2801, 2848, 2834, 2835, 2811, 2868, 2876, 2851, 2859"
      ]
     },
     "metadata": {},
     "output_type": "display_data"
    }
   ],
   "source": [
    "daily_deals_df %>% tidyr::separate(topSellingDealIds, into=c('top_selling_deal1','top_selling_deal2', 'dff'))"
   ]
  },
  {
   "cell_type": "code",
   "execution_count": 7,
   "metadata": {
    "collapsed": false,
    "scrolled": true
   },
   "outputs": [
    {
     "data": {
      "text/html": [
       "'list'"
      ],
      "text/latex": [
       "'list'"
      ],
      "text/markdown": [
       "'list'"
      ],
      "text/plain": [
       "[1] \"list\""
      ]
     },
     "metadata": {},
     "output_type": "display_data"
    }
   ],
   "source": [
    "typeof(daily_deals_df$topSellingDealIds[1])"
   ]
  },
  {
   "cell_type": "code",
   "execution_count": null,
   "metadata": {
    "collapsed": true
   },
   "outputs": [],
   "source": []
  },
  {
   "cell_type": "code",
   "execution_count": 8,
   "metadata": {
    "collapsed": false
   },
   "outputs": [
    {
     "data": {
      "text/html": [
       "<table>\n",
       "<thead><tr><th scope=col>date</th><th scope=col>featuerdDealId</th><th scope=col>topSellingDealIds1</th><th scope=col>topSellingDealIds2</th><th scope=col>newDealIds1</th><th scope=col>newDealIds2</th><th scope=col>newDealIds3</th><th scope=col>newDealIds4</th><th scope=col>newDealIds5</th><th scope=col>newDealIds6</th><th scope=col>⋯</th><th scope=col>newDealIds39</th><th scope=col>newDealIds40</th><th scope=col>newDealIds41</th><th scope=col>newDealIds42</th><th scope=col>newDealIds43</th><th scope=col>newDealIds44</th><th scope=col>newDealIds45</th><th scope=col>newDealIds46</th><th scope=col>newDealIds47</th><th scope=col>newDealIds48</th></tr></thead>\n",
       "<tbody>\n",
       "\t<tr><td>2017-01-06</td><td>2551      </td><td>2954      </td><td>2880      </td><td>2819      </td><td>2794      </td><td>2982      </td><td>2944      </td><td>2784      </td><td>2798      </td><td>⋯         </td><td>2899      </td><td>2801      </td><td>2848      </td><td>2834      </td><td>2835      </td><td>2811      </td><td>2868      </td><td>2876      </td><td>2851      </td><td>2859      </td></tr>\n",
       "</tbody>\n",
       "</table>\n"
      ],
      "text/latex": [
       "\\begin{tabular}{r|llllllllllllllllllllllllllllllllllllllllllllllllllll}\n",
       " date & featuerdDealId & topSellingDealIds1 & topSellingDealIds2 & newDealIds1 & newDealIds2 & newDealIds3 & newDealIds4 & newDealIds5 & newDealIds6 & ⋯ & newDealIds39 & newDealIds40 & newDealIds41 & newDealIds42 & newDealIds43 & newDealIds44 & newDealIds45 & newDealIds46 & newDealIds47 & newDealIds48\\\\\n",
       "\\hline\n",
       "\t 2017-01-06 & 2551       & 2954       & 2880       & 2819       & 2794       & 2982       & 2944       & 2784       & 2798       & ⋯          & 2899       & 2801       & 2848       & 2834       & 2835       & 2811       & 2868       & 2876       & 2851       & 2859      \\\\\n",
       "\\end{tabular}\n"
      ],
      "text/markdown": [
       "\n",
       "date | featuerdDealId | topSellingDealIds1 | topSellingDealIds2 | newDealIds1 | newDealIds2 | newDealIds3 | newDealIds4 | newDealIds5 | newDealIds6 | ⋯ | newDealIds39 | newDealIds40 | newDealIds41 | newDealIds42 | newDealIds43 | newDealIds44 | newDealIds45 | newDealIds46 | newDealIds47 | newDealIds48 | \n",
       "|---|\n",
       "| 2017-01-06 | 2551       | 2954       | 2880       | 2819       | 2794       | 2982       | 2944       | 2784       | 2798       | ⋯          | 2899       | 2801       | 2848       | 2834       | 2835       | 2811       | 2868       | 2876       | 2851       | 2859       | \n",
       "\n",
       "\n"
      ],
      "text/plain": [
       "  date       featuerdDealId topSellingDealIds1 topSellingDealIds2 newDealIds1\n",
       "1 2017-01-06 2551           2954               2880               2819       \n",
       "  newDealIds2 newDealIds3 newDealIds4 newDealIds5 newDealIds6 ⋯ newDealIds39\n",
       "1 2794        2982        2944        2784        2798        ⋯ 2899        \n",
       "  newDealIds40 newDealIds41 newDealIds42 newDealIds43 newDealIds44 newDealIds45\n",
       "1 2801         2848         2834         2835         2811         2868        \n",
       "  newDealIds46 newDealIds47 newDealIds48\n",
       "1 2876         2851         2859        "
      ]
     },
     "metadata": {},
     "output_type": "display_data"
    }
   ],
   "source": [
    "unlist(daily_deals_df) %>% \n",
    "t() %>% \n",
    "as.data.frame()\n"
   ]
  },
  {
   "cell_type": "code",
   "execution_count": 9,
   "metadata": {
    "collapsed": false
   },
   "outputs": [
    {
     "name": "stderr",
     "output_type": "stream",
     "text": [
      "Warning message:\n",
      "“attributes are not identical across measure variables; they will be dropped”"
     ]
    },
    {
     "data": {
      "text/html": [
       "<table>\n",
       "<thead><tr><th scope=col>date</th><th scope=col>variable</th><th scope=col>value</th></tr></thead>\n",
       "<tbody>\n",
       "\t<tr><td>2017-01-06        </td><td>featuerdDealId    </td><td>2551              </td></tr>\n",
       "\t<tr><td>2017-01-06        </td><td>topSellingDealIds1</td><td>2954              </td></tr>\n",
       "\t<tr><td>2017-01-06        </td><td>topSellingDealIds2</td><td>2880              </td></tr>\n",
       "\t<tr><td>2017-01-06        </td><td>newDealIds1       </td><td>2819              </td></tr>\n",
       "\t<tr><td>2017-01-06        </td><td>newDealIds2       </td><td>2794              </td></tr>\n",
       "\t<tr><td>2017-01-06        </td><td>newDealIds3       </td><td>2982              </td></tr>\n",
       "\t<tr><td>2017-01-06        </td><td>newDealIds4       </td><td>2944              </td></tr>\n",
       "\t<tr><td>2017-01-06        </td><td>newDealIds5       </td><td>2784              </td></tr>\n",
       "\t<tr><td>2017-01-06        </td><td>newDealIds6       </td><td>2798              </td></tr>\n",
       "\t<tr><td>2017-01-06        </td><td>newDealIds7       </td><td>2946              </td></tr>\n",
       "\t<tr><td>2017-01-06        </td><td>newDealIds8       </td><td>2412              </td></tr>\n",
       "\t<tr><td>2017-01-06        </td><td>newDealIds9       </td><td>2953              </td></tr>\n",
       "\t<tr><td>2017-01-06        </td><td>newDealIds10      </td><td>2563              </td></tr>\n",
       "\t<tr><td>2017-01-06        </td><td>newDealIds11      </td><td>2575              </td></tr>\n",
       "\t<tr><td>2017-01-06        </td><td>newDealIds12      </td><td>2534              </td></tr>\n",
       "\t<tr><td>2017-01-06        </td><td>newDealIds13      </td><td>2544              </td></tr>\n",
       "\t<tr><td>2017-01-06        </td><td>newDealIds14      </td><td>2546              </td></tr>\n",
       "\t<tr><td>2017-01-06        </td><td>newDealIds15      </td><td>2573              </td></tr>\n",
       "\t<tr><td>2017-01-06        </td><td>newDealIds16      </td><td>2589              </td></tr>\n",
       "\t<tr><td>2017-01-06        </td><td>newDealIds17      </td><td>2550              </td></tr>\n",
       "\t<tr><td>2017-01-06        </td><td>newDealIds18      </td><td>2630              </td></tr>\n",
       "\t<tr><td>2017-01-06        </td><td>newDealIds19      </td><td>2625              </td></tr>\n",
       "\t<tr><td>2017-01-06        </td><td>newDealIds20      </td><td>2623              </td></tr>\n",
       "\t<tr><td>2017-01-06        </td><td>newDealIds21      </td><td>2733              </td></tr>\n",
       "\t<tr><td>2017-01-06        </td><td>newDealIds22      </td><td>2711              </td></tr>\n",
       "\t<tr><td>2017-01-06        </td><td>newDealIds23      </td><td>2771              </td></tr>\n",
       "\t<tr><td>2017-01-06        </td><td>newDealIds24      </td><td>2721              </td></tr>\n",
       "\t<tr><td>2017-01-06        </td><td>newDealIds25      </td><td>2753              </td></tr>\n",
       "\t<tr><td>2017-01-06        </td><td>newDealIds26      </td><td>2756              </td></tr>\n",
       "\t<tr><td>2017-01-06        </td><td>newDealIds27      </td><td>2754              </td></tr>\n",
       "\t<tr><td>2017-01-06        </td><td>newDealIds28      </td><td>2706              </td></tr>\n",
       "\t<tr><td>2017-01-06        </td><td>newDealIds29      </td><td>2753              </td></tr>\n",
       "\t<tr><td>2017-01-06        </td><td>newDealIds30      </td><td>2746              </td></tr>\n",
       "\t<tr><td>2017-01-06        </td><td>newDealIds31      </td><td>2757              </td></tr>\n",
       "\t<tr><td>2017-01-06        </td><td>newDealIds32      </td><td>2704              </td></tr>\n",
       "\t<tr><td>2017-01-06        </td><td>newDealIds33      </td><td>2785              </td></tr>\n",
       "\t<tr><td>2017-01-06        </td><td>newDealIds34      </td><td>2881              </td></tr>\n",
       "\t<tr><td>2017-01-06        </td><td>newDealIds35      </td><td>2809              </td></tr>\n",
       "\t<tr><td>2017-01-06        </td><td>newDealIds36      </td><td>2809              </td></tr>\n",
       "\t<tr><td>2017-01-06        </td><td>newDealIds37      </td><td>2820              </td></tr>\n",
       "\t<tr><td>2017-01-06        </td><td>newDealIds38      </td><td>2821              </td></tr>\n",
       "\t<tr><td>2017-01-06        </td><td>newDealIds39      </td><td>2899              </td></tr>\n",
       "\t<tr><td>2017-01-06        </td><td>newDealIds40      </td><td>2801              </td></tr>\n",
       "\t<tr><td>2017-01-06        </td><td>newDealIds41      </td><td>2848              </td></tr>\n",
       "\t<tr><td>2017-01-06        </td><td>newDealIds42      </td><td>2834              </td></tr>\n",
       "\t<tr><td>2017-01-06        </td><td>newDealIds43      </td><td>2835              </td></tr>\n",
       "\t<tr><td>2017-01-06        </td><td>newDealIds44      </td><td>2811              </td></tr>\n",
       "\t<tr><td>2017-01-06        </td><td>newDealIds45      </td><td>2868              </td></tr>\n",
       "\t<tr><td>2017-01-06        </td><td>newDealIds46      </td><td>2876              </td></tr>\n",
       "\t<tr><td>2017-01-06        </td><td>newDealIds47      </td><td>2851              </td></tr>\n",
       "\t<tr><td>2017-01-06        </td><td>newDealIds48      </td><td>2859              </td></tr>\n",
       "</tbody>\n",
       "</table>\n"
      ],
      "text/latex": [
       "\\begin{tabular}{r|lll}\n",
       " date & variable & value\\\\\n",
       "\\hline\n",
       "\t 2017-01-06         & featuerdDealId     & 2551              \\\\\n",
       "\t 2017-01-06         & topSellingDealIds1 & 2954              \\\\\n",
       "\t 2017-01-06         & topSellingDealIds2 & 2880              \\\\\n",
       "\t 2017-01-06         & newDealIds1        & 2819              \\\\\n",
       "\t 2017-01-06         & newDealIds2        & 2794              \\\\\n",
       "\t 2017-01-06         & newDealIds3        & 2982              \\\\\n",
       "\t 2017-01-06         & newDealIds4        & 2944              \\\\\n",
       "\t 2017-01-06         & newDealIds5        & 2784              \\\\\n",
       "\t 2017-01-06         & newDealIds6        & 2798              \\\\\n",
       "\t 2017-01-06         & newDealIds7        & 2946              \\\\\n",
       "\t 2017-01-06         & newDealIds8        & 2412              \\\\\n",
       "\t 2017-01-06         & newDealIds9        & 2953              \\\\\n",
       "\t 2017-01-06         & newDealIds10       & 2563              \\\\\n",
       "\t 2017-01-06         & newDealIds11       & 2575              \\\\\n",
       "\t 2017-01-06         & newDealIds12       & 2534              \\\\\n",
       "\t 2017-01-06         & newDealIds13       & 2544              \\\\\n",
       "\t 2017-01-06         & newDealIds14       & 2546              \\\\\n",
       "\t 2017-01-06         & newDealIds15       & 2573              \\\\\n",
       "\t 2017-01-06         & newDealIds16       & 2589              \\\\\n",
       "\t 2017-01-06         & newDealIds17       & 2550              \\\\\n",
       "\t 2017-01-06         & newDealIds18       & 2630              \\\\\n",
       "\t 2017-01-06         & newDealIds19       & 2625              \\\\\n",
       "\t 2017-01-06         & newDealIds20       & 2623              \\\\\n",
       "\t 2017-01-06         & newDealIds21       & 2733              \\\\\n",
       "\t 2017-01-06         & newDealIds22       & 2711              \\\\\n",
       "\t 2017-01-06         & newDealIds23       & 2771              \\\\\n",
       "\t 2017-01-06         & newDealIds24       & 2721              \\\\\n",
       "\t 2017-01-06         & newDealIds25       & 2753              \\\\\n",
       "\t 2017-01-06         & newDealIds26       & 2756              \\\\\n",
       "\t 2017-01-06         & newDealIds27       & 2754              \\\\\n",
       "\t 2017-01-06         & newDealIds28       & 2706              \\\\\n",
       "\t 2017-01-06         & newDealIds29       & 2753              \\\\\n",
       "\t 2017-01-06         & newDealIds30       & 2746              \\\\\n",
       "\t 2017-01-06         & newDealIds31       & 2757              \\\\\n",
       "\t 2017-01-06         & newDealIds32       & 2704              \\\\\n",
       "\t 2017-01-06         & newDealIds33       & 2785              \\\\\n",
       "\t 2017-01-06         & newDealIds34       & 2881              \\\\\n",
       "\t 2017-01-06         & newDealIds35       & 2809              \\\\\n",
       "\t 2017-01-06         & newDealIds36       & 2809              \\\\\n",
       "\t 2017-01-06         & newDealIds37       & 2820              \\\\\n",
       "\t 2017-01-06         & newDealIds38       & 2821              \\\\\n",
       "\t 2017-01-06         & newDealIds39       & 2899              \\\\\n",
       "\t 2017-01-06         & newDealIds40       & 2801              \\\\\n",
       "\t 2017-01-06         & newDealIds41       & 2848              \\\\\n",
       "\t 2017-01-06         & newDealIds42       & 2834              \\\\\n",
       "\t 2017-01-06         & newDealIds43       & 2835              \\\\\n",
       "\t 2017-01-06         & newDealIds44       & 2811              \\\\\n",
       "\t 2017-01-06         & newDealIds45       & 2868              \\\\\n",
       "\t 2017-01-06         & newDealIds46       & 2876              \\\\\n",
       "\t 2017-01-06         & newDealIds47       & 2851              \\\\\n",
       "\t 2017-01-06         & newDealIds48       & 2859              \\\\\n",
       "\\end{tabular}\n"
      ],
      "text/markdown": [
       "\n",
       "date | variable | value | \n",
       "|---|---|---|---|---|---|---|---|---|---|---|---|---|---|---|---|---|---|---|---|---|---|---|---|---|---|---|---|---|---|---|---|---|---|---|---|---|---|---|---|---|---|---|---|---|---|---|---|---|---|---|\n",
       "| 2017-01-06         | featuerdDealId     | 2551               | \n",
       "| 2017-01-06         | topSellingDealIds1 | 2954               | \n",
       "| 2017-01-06         | topSellingDealIds2 | 2880               | \n",
       "| 2017-01-06         | newDealIds1        | 2819               | \n",
       "| 2017-01-06         | newDealIds2        | 2794               | \n",
       "| 2017-01-06         | newDealIds3        | 2982               | \n",
       "| 2017-01-06         | newDealIds4        | 2944               | \n",
       "| 2017-01-06         | newDealIds5        | 2784               | \n",
       "| 2017-01-06         | newDealIds6        | 2798               | \n",
       "| 2017-01-06         | newDealIds7        | 2946               | \n",
       "| 2017-01-06         | newDealIds8        | 2412               | \n",
       "| 2017-01-06         | newDealIds9        | 2953               | \n",
       "| 2017-01-06         | newDealIds10       | 2563               | \n",
       "| 2017-01-06         | newDealIds11       | 2575               | \n",
       "| 2017-01-06         | newDealIds12       | 2534               | \n",
       "| 2017-01-06         | newDealIds13       | 2544               | \n",
       "| 2017-01-06         | newDealIds14       | 2546               | \n",
       "| 2017-01-06         | newDealIds15       | 2573               | \n",
       "| 2017-01-06         | newDealIds16       | 2589               | \n",
       "| 2017-01-06         | newDealIds17       | 2550               | \n",
       "| 2017-01-06         | newDealIds18       | 2630               | \n",
       "| 2017-01-06         | newDealIds19       | 2625               | \n",
       "| 2017-01-06         | newDealIds20       | 2623               | \n",
       "| 2017-01-06         | newDealIds21       | 2733               | \n",
       "| 2017-01-06         | newDealIds22       | 2711               | \n",
       "| 2017-01-06         | newDealIds23       | 2771               | \n",
       "| 2017-01-06         | newDealIds24       | 2721               | \n",
       "| 2017-01-06         | newDealIds25       | 2753               | \n",
       "| 2017-01-06         | newDealIds26       | 2756               | \n",
       "| 2017-01-06         | newDealIds27       | 2754               | \n",
       "| 2017-01-06         | newDealIds28       | 2706               | \n",
       "| 2017-01-06         | newDealIds29       | 2753               | \n",
       "| 2017-01-06         | newDealIds30       | 2746               | \n",
       "| 2017-01-06         | newDealIds31       | 2757               | \n",
       "| 2017-01-06         | newDealIds32       | 2704               | \n",
       "| 2017-01-06         | newDealIds33       | 2785               | \n",
       "| 2017-01-06         | newDealIds34       | 2881               | \n",
       "| 2017-01-06         | newDealIds35       | 2809               | \n",
       "| 2017-01-06         | newDealIds36       | 2809               | \n",
       "| 2017-01-06         | newDealIds37       | 2820               | \n",
       "| 2017-01-06         | newDealIds38       | 2821               | \n",
       "| 2017-01-06         | newDealIds39       | 2899               | \n",
       "| 2017-01-06         | newDealIds40       | 2801               | \n",
       "| 2017-01-06         | newDealIds41       | 2848               | \n",
       "| 2017-01-06         | newDealIds42       | 2834               | \n",
       "| 2017-01-06         | newDealIds43       | 2835               | \n",
       "| 2017-01-06         | newDealIds44       | 2811               | \n",
       "| 2017-01-06         | newDealIds45       | 2868               | \n",
       "| 2017-01-06         | newDealIds46       | 2876               | \n",
       "| 2017-01-06         | newDealIds47       | 2851               | \n",
       "| 2017-01-06         | newDealIds48       | 2859               | \n",
       "\n",
       "\n"
      ],
      "text/plain": [
       "   date       variable           value\n",
       "1  2017-01-06 featuerdDealId     2551 \n",
       "2  2017-01-06 topSellingDealIds1 2954 \n",
       "3  2017-01-06 topSellingDealIds2 2880 \n",
       "4  2017-01-06 newDealIds1        2819 \n",
       "5  2017-01-06 newDealIds2        2794 \n",
       "6  2017-01-06 newDealIds3        2982 \n",
       "7  2017-01-06 newDealIds4        2944 \n",
       "8  2017-01-06 newDealIds5        2784 \n",
       "9  2017-01-06 newDealIds6        2798 \n",
       "10 2017-01-06 newDealIds7        2946 \n",
       "11 2017-01-06 newDealIds8        2412 \n",
       "12 2017-01-06 newDealIds9        2953 \n",
       "13 2017-01-06 newDealIds10       2563 \n",
       "14 2017-01-06 newDealIds11       2575 \n",
       "15 2017-01-06 newDealIds12       2534 \n",
       "16 2017-01-06 newDealIds13       2544 \n",
       "17 2017-01-06 newDealIds14       2546 \n",
       "18 2017-01-06 newDealIds15       2573 \n",
       "19 2017-01-06 newDealIds16       2589 \n",
       "20 2017-01-06 newDealIds17       2550 \n",
       "21 2017-01-06 newDealIds18       2630 \n",
       "22 2017-01-06 newDealIds19       2625 \n",
       "23 2017-01-06 newDealIds20       2623 \n",
       "24 2017-01-06 newDealIds21       2733 \n",
       "25 2017-01-06 newDealIds22       2711 \n",
       "26 2017-01-06 newDealIds23       2771 \n",
       "27 2017-01-06 newDealIds24       2721 \n",
       "28 2017-01-06 newDealIds25       2753 \n",
       "29 2017-01-06 newDealIds26       2756 \n",
       "30 2017-01-06 newDealIds27       2754 \n",
       "31 2017-01-06 newDealIds28       2706 \n",
       "32 2017-01-06 newDealIds29       2753 \n",
       "33 2017-01-06 newDealIds30       2746 \n",
       "34 2017-01-06 newDealIds31       2757 \n",
       "35 2017-01-06 newDealIds32       2704 \n",
       "36 2017-01-06 newDealIds33       2785 \n",
       "37 2017-01-06 newDealIds34       2881 \n",
       "38 2017-01-06 newDealIds35       2809 \n",
       "39 2017-01-06 newDealIds36       2809 \n",
       "40 2017-01-06 newDealIds37       2820 \n",
       "41 2017-01-06 newDealIds38       2821 \n",
       "42 2017-01-06 newDealIds39       2899 \n",
       "43 2017-01-06 newDealIds40       2801 \n",
       "44 2017-01-06 newDealIds41       2848 \n",
       "45 2017-01-06 newDealIds42       2834 \n",
       "46 2017-01-06 newDealIds43       2835 \n",
       "47 2017-01-06 newDealIds44       2811 \n",
       "48 2017-01-06 newDealIds45       2868 \n",
       "49 2017-01-06 newDealIds46       2876 \n",
       "50 2017-01-06 newDealIds47       2851 \n",
       "51 2017-01-06 newDealIds48       2859 "
      ]
     },
     "metadata": {},
     "output_type": "display_data"
    }
   ],
   "source": [
    "# this <- \n",
    "as.data.frame(unlist(daily_deals_df)%>% t()) %>%\n",
    "reshape2::melt(id.vars='date')\n",
    "# %>% mutate(position_index = stringr::str_extract(variable,'[0-9]+'))\n",
    "# colnames(this) <- c('date', 'section', 'dealid', 'position_index')"
   ]
  },
  {
   "cell_type": "code",
   "execution_count": 10,
   "metadata": {
    "collapsed": false
   },
   "outputs": [
    {
     "name": "stderr",
     "output_type": "stream",
     "text": [
      "Warning message:\n",
      "“attributes are not identical across measure variables; they will be dropped”"
     ]
    }
   ],
   "source": [
    "this <- \n",
    "as.data.frame(unlist(daily_deals_df)%>% t()) %>%\n",
    "reshape2::melt(id.vars='date') %>% mutate(position_index = stringr::str_extract(variable,'[0-9]+'))\n",
    "colnames(this) <- c('date', 'section', 'dealid', 'position_index')"
   ]
  },
  {
   "cell_type": "code",
   "execution_count": 11,
   "metadata": {
    "collapsed": false,
    "scrolled": true
   },
   "outputs": [
    {
     "data": {
      "text/html": [
       "<table>\n",
       "<thead><tr><th scope=col>date</th><th scope=col>section</th><th scope=col>dealid</th><th scope=col>position_index</th></tr></thead>\n",
       "<tbody>\n",
       "\t<tr><td>2017-01-06        </td><td>featuerdDealId    </td><td>2551              </td><td>NA                </td></tr>\n",
       "\t<tr><td>2017-01-06        </td><td>topSellingDealIds1</td><td>2954              </td><td>1                 </td></tr>\n",
       "\t<tr><td>2017-01-06        </td><td>topSellingDealIds2</td><td>2880              </td><td>2                 </td></tr>\n",
       "\t<tr><td>2017-01-06        </td><td>newDealIds1       </td><td>2819              </td><td>1                 </td></tr>\n",
       "\t<tr><td>2017-01-06        </td><td>newDealIds2       </td><td>2794              </td><td>2                 </td></tr>\n",
       "\t<tr><td>2017-01-06        </td><td>newDealIds3       </td><td>2982              </td><td>3                 </td></tr>\n",
       "\t<tr><td>2017-01-06        </td><td>newDealIds4       </td><td>2944              </td><td>4                 </td></tr>\n",
       "\t<tr><td>2017-01-06        </td><td>newDealIds5       </td><td>2784              </td><td>5                 </td></tr>\n",
       "\t<tr><td>2017-01-06        </td><td>newDealIds6       </td><td>2798              </td><td>6                 </td></tr>\n",
       "\t<tr><td>2017-01-06        </td><td>newDealIds7       </td><td>2946              </td><td>7                 </td></tr>\n",
       "\t<tr><td>2017-01-06        </td><td>newDealIds8       </td><td>2412              </td><td>8                 </td></tr>\n",
       "\t<tr><td>2017-01-06        </td><td>newDealIds9       </td><td>2953              </td><td>9                 </td></tr>\n",
       "\t<tr><td>2017-01-06        </td><td>newDealIds10      </td><td>2563              </td><td>10                </td></tr>\n",
       "\t<tr><td>2017-01-06        </td><td>newDealIds11      </td><td>2575              </td><td>11                </td></tr>\n",
       "\t<tr><td>2017-01-06        </td><td>newDealIds12      </td><td>2534              </td><td>12                </td></tr>\n",
       "\t<tr><td>2017-01-06        </td><td>newDealIds13      </td><td>2544              </td><td>13                </td></tr>\n",
       "\t<tr><td>2017-01-06        </td><td>newDealIds14      </td><td>2546              </td><td>14                </td></tr>\n",
       "\t<tr><td>2017-01-06        </td><td>newDealIds15      </td><td>2573              </td><td>15                </td></tr>\n",
       "\t<tr><td>2017-01-06        </td><td>newDealIds16      </td><td>2589              </td><td>16                </td></tr>\n",
       "\t<tr><td>2017-01-06        </td><td>newDealIds17      </td><td>2550              </td><td>17                </td></tr>\n",
       "\t<tr><td>2017-01-06        </td><td>newDealIds18      </td><td>2630              </td><td>18                </td></tr>\n",
       "\t<tr><td>2017-01-06        </td><td>newDealIds19      </td><td>2625              </td><td>19                </td></tr>\n",
       "\t<tr><td>2017-01-06        </td><td>newDealIds20      </td><td>2623              </td><td>20                </td></tr>\n",
       "\t<tr><td>2017-01-06        </td><td>newDealIds21      </td><td>2733              </td><td>21                </td></tr>\n",
       "\t<tr><td>2017-01-06        </td><td>newDealIds22      </td><td>2711              </td><td>22                </td></tr>\n",
       "\t<tr><td>2017-01-06        </td><td>newDealIds23      </td><td>2771              </td><td>23                </td></tr>\n",
       "\t<tr><td>2017-01-06        </td><td>newDealIds24      </td><td>2721              </td><td>24                </td></tr>\n",
       "\t<tr><td>2017-01-06        </td><td>newDealIds25      </td><td>2753              </td><td>25                </td></tr>\n",
       "\t<tr><td>2017-01-06        </td><td>newDealIds26      </td><td>2756              </td><td>26                </td></tr>\n",
       "\t<tr><td>2017-01-06        </td><td>newDealIds27      </td><td>2754              </td><td>27                </td></tr>\n",
       "\t<tr><td>2017-01-06        </td><td>newDealIds28      </td><td>2706              </td><td>28                </td></tr>\n",
       "\t<tr><td>2017-01-06        </td><td>newDealIds29      </td><td>2753              </td><td>29                </td></tr>\n",
       "\t<tr><td>2017-01-06        </td><td>newDealIds30      </td><td>2746              </td><td>30                </td></tr>\n",
       "\t<tr><td>2017-01-06        </td><td>newDealIds31      </td><td>2757              </td><td>31                </td></tr>\n",
       "\t<tr><td>2017-01-06        </td><td>newDealIds32      </td><td>2704              </td><td>32                </td></tr>\n",
       "\t<tr><td>2017-01-06        </td><td>newDealIds33      </td><td>2785              </td><td>33                </td></tr>\n",
       "\t<tr><td>2017-01-06        </td><td>newDealIds34      </td><td>2881              </td><td>34                </td></tr>\n",
       "\t<tr><td>2017-01-06        </td><td>newDealIds35      </td><td>2809              </td><td>35                </td></tr>\n",
       "\t<tr><td>2017-01-06        </td><td>newDealIds36      </td><td>2809              </td><td>36                </td></tr>\n",
       "\t<tr><td>2017-01-06        </td><td>newDealIds37      </td><td>2820              </td><td>37                </td></tr>\n",
       "\t<tr><td>2017-01-06        </td><td>newDealIds38      </td><td>2821              </td><td>38                </td></tr>\n",
       "\t<tr><td>2017-01-06        </td><td>newDealIds39      </td><td>2899              </td><td>39                </td></tr>\n",
       "\t<tr><td>2017-01-06        </td><td>newDealIds40      </td><td>2801              </td><td>40                </td></tr>\n",
       "\t<tr><td>2017-01-06        </td><td>newDealIds41      </td><td>2848              </td><td>41                </td></tr>\n",
       "\t<tr><td>2017-01-06        </td><td>newDealIds42      </td><td>2834              </td><td>42                </td></tr>\n",
       "\t<tr><td>2017-01-06        </td><td>newDealIds43      </td><td>2835              </td><td>43                </td></tr>\n",
       "\t<tr><td>2017-01-06        </td><td>newDealIds44      </td><td>2811              </td><td>44                </td></tr>\n",
       "\t<tr><td>2017-01-06        </td><td>newDealIds45      </td><td>2868              </td><td>45                </td></tr>\n",
       "\t<tr><td>2017-01-06        </td><td>newDealIds46      </td><td>2876              </td><td>46                </td></tr>\n",
       "\t<tr><td>2017-01-06        </td><td>newDealIds47      </td><td>2851              </td><td>47                </td></tr>\n",
       "\t<tr><td>2017-01-06        </td><td>newDealIds48      </td><td>2859              </td><td>48                </td></tr>\n",
       "</tbody>\n",
       "</table>\n"
      ],
      "text/latex": [
       "\\begin{tabular}{r|llll}\n",
       " date & section & dealid & position\\_index\\\\\n",
       "\\hline\n",
       "\t 2017-01-06         & featuerdDealId     & 2551               & NA                \\\\\n",
       "\t 2017-01-06         & topSellingDealIds1 & 2954               & 1                 \\\\\n",
       "\t 2017-01-06         & topSellingDealIds2 & 2880               & 2                 \\\\\n",
       "\t 2017-01-06         & newDealIds1        & 2819               & 1                 \\\\\n",
       "\t 2017-01-06         & newDealIds2        & 2794               & 2                 \\\\\n",
       "\t 2017-01-06         & newDealIds3        & 2982               & 3                 \\\\\n",
       "\t 2017-01-06         & newDealIds4        & 2944               & 4                 \\\\\n",
       "\t 2017-01-06         & newDealIds5        & 2784               & 5                 \\\\\n",
       "\t 2017-01-06         & newDealIds6        & 2798               & 6                 \\\\\n",
       "\t 2017-01-06         & newDealIds7        & 2946               & 7                 \\\\\n",
       "\t 2017-01-06         & newDealIds8        & 2412               & 8                 \\\\\n",
       "\t 2017-01-06         & newDealIds9        & 2953               & 9                 \\\\\n",
       "\t 2017-01-06         & newDealIds10       & 2563               & 10                \\\\\n",
       "\t 2017-01-06         & newDealIds11       & 2575               & 11                \\\\\n",
       "\t 2017-01-06         & newDealIds12       & 2534               & 12                \\\\\n",
       "\t 2017-01-06         & newDealIds13       & 2544               & 13                \\\\\n",
       "\t 2017-01-06         & newDealIds14       & 2546               & 14                \\\\\n",
       "\t 2017-01-06         & newDealIds15       & 2573               & 15                \\\\\n",
       "\t 2017-01-06         & newDealIds16       & 2589               & 16                \\\\\n",
       "\t 2017-01-06         & newDealIds17       & 2550               & 17                \\\\\n",
       "\t 2017-01-06         & newDealIds18       & 2630               & 18                \\\\\n",
       "\t 2017-01-06         & newDealIds19       & 2625               & 19                \\\\\n",
       "\t 2017-01-06         & newDealIds20       & 2623               & 20                \\\\\n",
       "\t 2017-01-06         & newDealIds21       & 2733               & 21                \\\\\n",
       "\t 2017-01-06         & newDealIds22       & 2711               & 22                \\\\\n",
       "\t 2017-01-06         & newDealIds23       & 2771               & 23                \\\\\n",
       "\t 2017-01-06         & newDealIds24       & 2721               & 24                \\\\\n",
       "\t 2017-01-06         & newDealIds25       & 2753               & 25                \\\\\n",
       "\t 2017-01-06         & newDealIds26       & 2756               & 26                \\\\\n",
       "\t 2017-01-06         & newDealIds27       & 2754               & 27                \\\\\n",
       "\t 2017-01-06         & newDealIds28       & 2706               & 28                \\\\\n",
       "\t 2017-01-06         & newDealIds29       & 2753               & 29                \\\\\n",
       "\t 2017-01-06         & newDealIds30       & 2746               & 30                \\\\\n",
       "\t 2017-01-06         & newDealIds31       & 2757               & 31                \\\\\n",
       "\t 2017-01-06         & newDealIds32       & 2704               & 32                \\\\\n",
       "\t 2017-01-06         & newDealIds33       & 2785               & 33                \\\\\n",
       "\t 2017-01-06         & newDealIds34       & 2881               & 34                \\\\\n",
       "\t 2017-01-06         & newDealIds35       & 2809               & 35                \\\\\n",
       "\t 2017-01-06         & newDealIds36       & 2809               & 36                \\\\\n",
       "\t 2017-01-06         & newDealIds37       & 2820               & 37                \\\\\n",
       "\t 2017-01-06         & newDealIds38       & 2821               & 38                \\\\\n",
       "\t 2017-01-06         & newDealIds39       & 2899               & 39                \\\\\n",
       "\t 2017-01-06         & newDealIds40       & 2801               & 40                \\\\\n",
       "\t 2017-01-06         & newDealIds41       & 2848               & 41                \\\\\n",
       "\t 2017-01-06         & newDealIds42       & 2834               & 42                \\\\\n",
       "\t 2017-01-06         & newDealIds43       & 2835               & 43                \\\\\n",
       "\t 2017-01-06         & newDealIds44       & 2811               & 44                \\\\\n",
       "\t 2017-01-06         & newDealIds45       & 2868               & 45                \\\\\n",
       "\t 2017-01-06         & newDealIds46       & 2876               & 46                \\\\\n",
       "\t 2017-01-06         & newDealIds47       & 2851               & 47                \\\\\n",
       "\t 2017-01-06         & newDealIds48       & 2859               & 48                \\\\\n",
       "\\end{tabular}\n"
      ],
      "text/markdown": [
       "\n",
       "date | section | dealid | position_index | \n",
       "|---|---|---|---|---|---|---|---|---|---|---|---|---|---|---|---|---|---|---|---|---|---|---|---|---|---|---|---|---|---|---|---|---|---|---|---|---|---|---|---|---|---|---|---|---|---|---|---|---|---|---|\n",
       "| 2017-01-06         | featuerdDealId     | 2551               | NA                 | \n",
       "| 2017-01-06         | topSellingDealIds1 | 2954               | 1                  | \n",
       "| 2017-01-06         | topSellingDealIds2 | 2880               | 2                  | \n",
       "| 2017-01-06         | newDealIds1        | 2819               | 1                  | \n",
       "| 2017-01-06         | newDealIds2        | 2794               | 2                  | \n",
       "| 2017-01-06         | newDealIds3        | 2982               | 3                  | \n",
       "| 2017-01-06         | newDealIds4        | 2944               | 4                  | \n",
       "| 2017-01-06         | newDealIds5        | 2784               | 5                  | \n",
       "| 2017-01-06         | newDealIds6        | 2798               | 6                  | \n",
       "| 2017-01-06         | newDealIds7        | 2946               | 7                  | \n",
       "| 2017-01-06         | newDealIds8        | 2412               | 8                  | \n",
       "| 2017-01-06         | newDealIds9        | 2953               | 9                  | \n",
       "| 2017-01-06         | newDealIds10       | 2563               | 10                 | \n",
       "| 2017-01-06         | newDealIds11       | 2575               | 11                 | \n",
       "| 2017-01-06         | newDealIds12       | 2534               | 12                 | \n",
       "| 2017-01-06         | newDealIds13       | 2544               | 13                 | \n",
       "| 2017-01-06         | newDealIds14       | 2546               | 14                 | \n",
       "| 2017-01-06         | newDealIds15       | 2573               | 15                 | \n",
       "| 2017-01-06         | newDealIds16       | 2589               | 16                 | \n",
       "| 2017-01-06         | newDealIds17       | 2550               | 17                 | \n",
       "| 2017-01-06         | newDealIds18       | 2630               | 18                 | \n",
       "| 2017-01-06         | newDealIds19       | 2625               | 19                 | \n",
       "| 2017-01-06         | newDealIds20       | 2623               | 20                 | \n",
       "| 2017-01-06         | newDealIds21       | 2733               | 21                 | \n",
       "| 2017-01-06         | newDealIds22       | 2711               | 22                 | \n",
       "| 2017-01-06         | newDealIds23       | 2771               | 23                 | \n",
       "| 2017-01-06         | newDealIds24       | 2721               | 24                 | \n",
       "| 2017-01-06         | newDealIds25       | 2753               | 25                 | \n",
       "| 2017-01-06         | newDealIds26       | 2756               | 26                 | \n",
       "| 2017-01-06         | newDealIds27       | 2754               | 27                 | \n",
       "| 2017-01-06         | newDealIds28       | 2706               | 28                 | \n",
       "| 2017-01-06         | newDealIds29       | 2753               | 29                 | \n",
       "| 2017-01-06         | newDealIds30       | 2746               | 30                 | \n",
       "| 2017-01-06         | newDealIds31       | 2757               | 31                 | \n",
       "| 2017-01-06         | newDealIds32       | 2704               | 32                 | \n",
       "| 2017-01-06         | newDealIds33       | 2785               | 33                 | \n",
       "| 2017-01-06         | newDealIds34       | 2881               | 34                 | \n",
       "| 2017-01-06         | newDealIds35       | 2809               | 35                 | \n",
       "| 2017-01-06         | newDealIds36       | 2809               | 36                 | \n",
       "| 2017-01-06         | newDealIds37       | 2820               | 37                 | \n",
       "| 2017-01-06         | newDealIds38       | 2821               | 38                 | \n",
       "| 2017-01-06         | newDealIds39       | 2899               | 39                 | \n",
       "| 2017-01-06         | newDealIds40       | 2801               | 40                 | \n",
       "| 2017-01-06         | newDealIds41       | 2848               | 41                 | \n",
       "| 2017-01-06         | newDealIds42       | 2834               | 42                 | \n",
       "| 2017-01-06         | newDealIds43       | 2835               | 43                 | \n",
       "| 2017-01-06         | newDealIds44       | 2811               | 44                 | \n",
       "| 2017-01-06         | newDealIds45       | 2868               | 45                 | \n",
       "| 2017-01-06         | newDealIds46       | 2876               | 46                 | \n",
       "| 2017-01-06         | newDealIds47       | 2851               | 47                 | \n",
       "| 2017-01-06         | newDealIds48       | 2859               | 48                 | \n",
       "\n",
       "\n"
      ],
      "text/plain": [
       "   date       section            dealid position_index\n",
       "1  2017-01-06 featuerdDealId     2551   NA            \n",
       "2  2017-01-06 topSellingDealIds1 2954   1             \n",
       "3  2017-01-06 topSellingDealIds2 2880   2             \n",
       "4  2017-01-06 newDealIds1        2819   1             \n",
       "5  2017-01-06 newDealIds2        2794   2             \n",
       "6  2017-01-06 newDealIds3        2982   3             \n",
       "7  2017-01-06 newDealIds4        2944   4             \n",
       "8  2017-01-06 newDealIds5        2784   5             \n",
       "9  2017-01-06 newDealIds6        2798   6             \n",
       "10 2017-01-06 newDealIds7        2946   7             \n",
       "11 2017-01-06 newDealIds8        2412   8             \n",
       "12 2017-01-06 newDealIds9        2953   9             \n",
       "13 2017-01-06 newDealIds10       2563   10            \n",
       "14 2017-01-06 newDealIds11       2575   11            \n",
       "15 2017-01-06 newDealIds12       2534   12            \n",
       "16 2017-01-06 newDealIds13       2544   13            \n",
       "17 2017-01-06 newDealIds14       2546   14            \n",
       "18 2017-01-06 newDealIds15       2573   15            \n",
       "19 2017-01-06 newDealIds16       2589   16            \n",
       "20 2017-01-06 newDealIds17       2550   17            \n",
       "21 2017-01-06 newDealIds18       2630   18            \n",
       "22 2017-01-06 newDealIds19       2625   19            \n",
       "23 2017-01-06 newDealIds20       2623   20            \n",
       "24 2017-01-06 newDealIds21       2733   21            \n",
       "25 2017-01-06 newDealIds22       2711   22            \n",
       "26 2017-01-06 newDealIds23       2771   23            \n",
       "27 2017-01-06 newDealIds24       2721   24            \n",
       "28 2017-01-06 newDealIds25       2753   25            \n",
       "29 2017-01-06 newDealIds26       2756   26            \n",
       "30 2017-01-06 newDealIds27       2754   27            \n",
       "31 2017-01-06 newDealIds28       2706   28            \n",
       "32 2017-01-06 newDealIds29       2753   29            \n",
       "33 2017-01-06 newDealIds30       2746   30            \n",
       "34 2017-01-06 newDealIds31       2757   31            \n",
       "35 2017-01-06 newDealIds32       2704   32            \n",
       "36 2017-01-06 newDealIds33       2785   33            \n",
       "37 2017-01-06 newDealIds34       2881   34            \n",
       "38 2017-01-06 newDealIds35       2809   35            \n",
       "39 2017-01-06 newDealIds36       2809   36            \n",
       "40 2017-01-06 newDealIds37       2820   37            \n",
       "41 2017-01-06 newDealIds38       2821   38            \n",
       "42 2017-01-06 newDealIds39       2899   39            \n",
       "43 2017-01-06 newDealIds40       2801   40            \n",
       "44 2017-01-06 newDealIds41       2848   41            \n",
       "45 2017-01-06 newDealIds42       2834   42            \n",
       "46 2017-01-06 newDealIds43       2835   43            \n",
       "47 2017-01-06 newDealIds44       2811   44            \n",
       "48 2017-01-06 newDealIds45       2868   45            \n",
       "49 2017-01-06 newDealIds46       2876   46            \n",
       "50 2017-01-06 newDealIds47       2851   47            \n",
       "51 2017-01-06 newDealIds48       2859   48            "
      ]
     },
     "metadata": {},
     "output_type": "display_data"
    }
   ],
   "source": [
    "this"
   ]
  },
  {
   "cell_type": "code",
   "execution_count": 30,
   "metadata": {
    "collapsed": false
   },
   "outputs": [
    {
     "data": {
      "text/plain": [
       "[{\"date\":\"2017-01-06\",\"section\":\"featuerdDealId\",\"dealid\":\"255851\"},{\"date\":\"2017-01-06\",\"section\":\"topSellingDealIds1\",\"dealid\":\"298954\",\"position_index\":\"1\"},{\"date\":\"2017-01-06\",\"section\":\"topSellingDealIds2\",\"dealid\":\"289980\",\"position_index\":\"2\"},{\"date\":\"2017-01-06\",\"section\":\"newDealIds1\",\"dealid\":\"288319\",\"position_index\":\"1\"},{\"date\":\"2017-01-06\",\"section\":\"newDealIds2\",\"dealid\":\"278094\",\"position_index\":\"2\"},{\"date\":\"2017-01-06\",\"section\":\"newDealIds3\",\"dealid\":\"294982\",\"position_index\":\"3\"},{\"date\":\"2017-01-06\",\"section\":\"newDealIds4\",\"dealid\":\"292744\",\"position_index\":\"4\"},{\"date\":\"2017-01-06\",\"section\":\"newDealIds5\",\"dealid\":\"270984\",\"position_index\":\"5\"},{\"date\":\"2017-01-06\",\"section\":\"newDealIds6\",\"dealid\":\"270998\",\"position_index\":\"6\"},{\"date\":\"2017-01-06\",\"section\":\"newDealIds7\",\"dealid\":\"295446\",\"position_index\":\"7\"},{\"date\":\"2017-01-06\",\"section\":\"newDealIds8\",\"dealid\":\"244712\",\"position_index\":\"8\"},{\"date\":\"2017-01-06\",\"section\":\"newDealIds9\",\"dealid\":\"295453\",\"position_index\":\"9\"},{\"date\":\"2017-01-06\",\"section\":\"newDealIds10\",\"dealid\":\"255863\",\"position_index\":\"10\"},{\"date\":\"2017-01-06\",\"section\":\"newDealIds11\",\"dealid\":\"255875\",\"position_index\":\"11\"},{\"date\":\"2017-01-06\",\"section\":\"newDealIds12\",\"dealid\":\"256034\",\"position_index\":\"12\"},{\"date\":\"2017-01-06\",\"section\":\"newDealIds13\",\"dealid\":\"256044\",\"position_index\":\"13\"},{\"date\":\"2017-01-06\",\"section\":\"newDealIds14\",\"dealid\":\"256046\",\"position_index\":\"14\"},{\"date\":\"2017-01-06\",\"section\":\"newDealIds15\",\"dealid\":\"256273\",\"position_index\":\"15\"},{\"date\":\"2017-01-06\",\"section\":\"newDealIds16\",\"dealid\":\"257689\",\"position_index\":\"16\"},{\"date\":\"2017-01-06\",\"section\":\"newDealIds17\",\"dealid\":\"257850\",\"position_index\":\"17\"},{\"date\":\"2017-01-06\",\"section\":\"newDealIds18\",\"dealid\":\"266630\",\"position_index\":\"18\"},{\"date\":\"2017-01-06\",\"section\":\"newDealIds19\",\"dealid\":\"267425\",\"position_index\":\"19\"},{\"date\":\"2017-01-06\",\"section\":\"newDealIds20\",\"dealid\":\"268023\",\"position_index\":\"20\"},{\"date\":\"2017-01-06\",\"section\":\"newDealIds21\",\"dealid\":\"270333\",\"position_index\":\"21\"},{\"date\":\"2017-01-06\",\"section\":\"newDealIds22\",\"dealid\":\"273111\",\"position_index\":\"22\"},{\"date\":\"2017-01-06\",\"section\":\"newDealIds23\",\"dealid\":\"273271\",\"position_index\":\"23\"},{\"date\":\"2017-01-06\",\"section\":\"newDealIds24\",\"dealid\":\"274021\",\"position_index\":\"24\"},{\"date\":\"2017-01-06\",\"section\":\"newDealIds25\",\"dealid\":\"275153\",\"position_index\":\"25\"},{\"date\":\"2017-01-06\",\"section\":\"newDealIds26\",\"dealid\":\"275156\",\"position_index\":\"26\"},{\"date\":\"2017-01-06\",\"section\":\"newDealIds27\",\"dealid\":\"275554\",\"position_index\":\"27\"},{\"date\":\"2017-01-06\",\"section\":\"newDealIds28\",\"dealid\":\"276506\",\"position_index\":\"28\"},{\"date\":\"2017-01-06\",\"section\":\"newDealIds29\",\"dealid\":\"276753\",\"position_index\":\"29\"},{\"date\":\"2017-01-06\",\"section\":\"newDealIds30\",\"dealid\":\"277946\",\"position_index\":\"30\"},{\"date\":\"2017-01-06\",\"section\":\"newDealIds31\",\"dealid\":\"277957\",\"position_index\":\"31\"},{\"date\":\"2017-01-06\",\"section\":\"newDealIds32\",\"dealid\":\"278004\",\"position_index\":\"32\"},{\"date\":\"2017-01-06\",\"section\":\"newDealIds33\",\"dealid\":\"278085\",\"position_index\":\"33\"},{\"date\":\"2017-01-06\",\"section\":\"newDealIds34\",\"dealid\":\"280281\",\"position_index\":\"34\"},{\"date\":\"2017-01-06\",\"section\":\"newDealIds35\",\"dealid\":\"283009\",\"position_index\":\"35\"},{\"date\":\"2017-01-06\",\"section\":\"newDealIds36\",\"dealid\":\"283309\",\"position_index\":\"36\"},{\"date\":\"2017-01-06\",\"section\":\"newDealIds37\",\"dealid\":\"283620\",\"position_index\":\"37\"},{\"date\":\"2017-01-06\",\"section\":\"newDealIds38\",\"dealid\":\"283621\",\"position_index\":\"38\"},{\"date\":\"2017-01-06\",\"section\":\"newDealIds39\",\"dealid\":\"284299\",\"position_index\":\"39\"},{\"date\":\"2017-01-06\",\"section\":\"newDealIds40\",\"dealid\":\"285101\",\"position_index\":\"40\"},{\"date\":\"2017-01-06\",\"section\":\"newDealIds41\",\"dealid\":\"285448\",\"position_index\":\"41\"},{\"date\":\"2017-01-06\",\"section\":\"newDealIds42\",\"dealid\":\"286934\",\"position_index\":\"42\"},{\"date\":\"2017-01-06\",\"section\":\"newDealIds43\",\"dealid\":\"287235\",\"position_index\":\"43\"},{\"date\":\"2017-01-06\",\"section\":\"newDealIds44\",\"dealid\":\"287411\",\"position_index\":\"44\"},{\"date\":\"2017-01-06\",\"section\":\"newDealIds45\",\"dealid\":\"287568\",\"position_index\":\"45\"},{\"date\":\"2017-01-06\",\"section\":\"newDealIds46\",\"dealid\":\"287576\",\"position_index\":\"46\"},{\"date\":\"2017-01-06\",\"section\":\"newDealIds47\",\"dealid\":\"287951\",\"position_index\":\"47\"},{\"date\":\"2017-01-06\",\"section\":\"newDealIds48\",\"dealid\":\"287959\",\"position_index\":\"48\"}] "
      ]
     },
     "metadata": {},
     "output_type": "display_data"
    }
   ],
   "source": [
    "toJSON(this)"
   ]
  },
  {
   "cell_type": "code",
   "execution_count": null,
   "metadata": {
    "collapsed": true
   },
   "outputs": [],
   "source": []
  }
 ],
 "metadata": {
  "anaconda-cloud": {},
  "kernelspec": {
   "display_name": "R",
   "language": "R",
   "name": "ir"
  },
  "language_info": {
   "codemirror_mode": "r",
   "file_extension": ".r",
   "mimetype": "text/x-r-source",
   "name": "R",
   "pygments_lexer": "r",
   "version": "3.3.2"
  }
 },
 "nbformat": 4,
 "nbformat_minor": 0
}
